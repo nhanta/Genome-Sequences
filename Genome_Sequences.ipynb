{
 "cells": [
  {
   "attachments": {},
   "cell_type": "markdown",
   "metadata": {},
   "source": [
    "<a href=\"https://cbitek.com/\"><img src=\"https://cbitek.com/wp-content/uploads/2019/08/Genome.jpg\" width=\"200\" align=\"center\"></a>\n",
    "\n",
    "# Genome Sequences \n",
    "### Author: NhanTV"
   ]
  },
  {
   "cell_type": "markdown",
   "metadata": {},
   "source": [
    "We will <b>simulate the process of genome sequencing</b> simply without considering which alleles and chromosomes gens belong to."
   ]
  },
  {
   "cell_type": "markdown",
   "metadata": {},
   "source": [
    "# Workflow\n",
    "Firstly, DNA sample is read by DNA sequencer into <b>(k, d)-mers</b> defined later. Then, we will contruct a <b>de Bruijn graph</b> with edges that are (k,d)-mers. Because of the faulty reading process, biologists will consider <b>the maximal non-branching paths</b> from the de Bruijn graph before constructing a genome sequence by applying <b>a Eulerian Path</b> to the de Bruijn graph .\n",
    "<a href=\"https://cbitek.com/\"><img src=\"https://cbitek.com/wp-content/uploads/2019/09/1_3.jpg\" width=\"800\" align=\"center\"></a>"
   ]
  },
  {
   "cell_type": "markdown",
   "metadata": {},
   "source": [
    "# 1. Data\n",
    "Genome Data of the <b>Ecoli bacterium</b> can be downloaded <a href=\"https://github.com/nhanta/Genome-Sequences/blob/master/ecoli.txt\">here</a>"
   ]
  },
  {
   "cell_type": "markdown",
   "metadata": {},
   "source": [
    "### Import Dataset"
   ]
  },
  {
   "cell_type": "code",
   "execution_count": 1,
   "metadata": {},
   "outputs": [],
   "source": [
    "import numpy as np\n",
    "import pandas as pd"
   ]
  },
  {
   "cell_type": "markdown",
   "metadata": {},
   "source": [
    "For easy considering of the sequencing process on a personal computer, we choose <b>the first 100 nucleotides</b>."
   ]
  },
  {
   "cell_type": "code",
   "execution_count": 10,
   "metadata": {},
   "outputs": [
    {
     "name": "stdout",
     "output_type": "stream",
     "text": [
      "Genome length: 4639675\n",
      "The first 100 nucleotides: AGCTTTTCATTCTGACTGCAACGGGCAATATGTCTCTGTGTGGATTAAAAAAAGAGTGTCTGATAGCAGCTTCTGAACTGGTTACCTGCCGTGAGTAAAT\n"
     ]
    }
   ],
   "source": [
    "with open (\"D:/Data Science/Coursera/Bioinformatics/Paired reads/ecoli.txt\", \"r\") as file:\n",
    "    text = file.read().replace('\\n', '')\n",
    "    print('Genome length:', len(text))\n",
    "    text = text[:100]\n",
    "    print('The first 100 nucleotides:', text)"
   ]
  },
  {
   "cell_type": "markdown",
   "metadata": {},
   "source": [
    "# 2. DNA Sequencing Reads (Paired Reads)"
   ]
  },
  {
   "cell_type": "markdown",
   "metadata": {},
   "source": [
    "Firstly, we will simulate the reading of the genome sequencer. Defining a <b>(k, d)-mers</b> as a paired reads with the <b>first k nucleotides</b>, <b>the last k nucleotides</b> and <b>the gap including d nucleotides unknown</b> between them.\n",
    "<a href=\"https://cbitek.com/\"><img src=\"https://cbitek.com/wp-content/uploads/2019/09/paired-reads.jpg\" width=\"400\" align=\"center\"></a>"
   ]
  },
  {
   "cell_type": "code",
   "execution_count": 12,
   "metadata": {},
   "outputs": [],
   "source": [
    "# Deviding genome to k-mers overlaping (k-1) nucleotides \n",
    "def get_composition(text, k): \n",
    "    pattern = []\n",
    "    for i in range(len(text)-k +1):\n",
    "        pattern.append(text[i:i+k])\n",
    "    return(pattern)"
   ]
  },
  {
   "cell_type": "markdown",
   "metadata": {},
   "source": [
    "The text is composited into (k, d)-mers so that it's surfix: (k-1, d)-mers equals to the prefix (k-1, d)-mers of the next (k, d)-mers."
   ]
  },
  {
   "cell_type": "code",
   "execution_count": 13,
   "metadata": {},
   "outputs": [],
   "source": [
    "def get_composition_d(text, k, d):\n",
    "    pattern = []\n",
    "    for i in range(len(text)-2*k-d+1):\n",
    "        pattern.append(text[i:i+k]+'|'+ text[i+k+d:i+2*k+d])\n",
    "    return(pattern)"
   ]
  },
  {
   "cell_type": "code",
   "execution_count": 187,
   "metadata": {},
   "outputs": [
    {
     "data": {
      "text/plain": [
       "['AGCT|TCAT', 'GCTT|CATT', 'CTTT|ATTC', 'TTTT|TTCT', 'TTTC|TCTG']"
      ]
     },
     "execution_count": 187,
     "metadata": {},
     "output_type": "execute_result"
    }
   ],
   "source": [
    "pre_paired_reads = get_composition_d(text, 4, 2)\n",
    "pre_paired_reads[:5]"
   ]
  },
  {
   "cell_type": "markdown",
   "metadata": {},
   "source": [
    "Since we don't know the order of the (k, d)-mers, so we will rearrange its order by alphabe."
   ]
  },
  {
   "cell_type": "code",
   "execution_count": 188,
   "metadata": {},
   "outputs": [
    {
     "data": {
      "text/plain": [
       "['AAAA|AGAG', 'AAAA|AGTG', 'AAAA|GAGT', 'AAAA|GTGT', 'AAAG|TGTC']"
      ]
     },
     "execution_count": 188,
     "metadata": {},
     "output_type": "execute_result"
    }
   ],
   "source": [
    "paired_reads= sorted(pre_paired_reads)\n",
    "paired_reads[:5]"
   ]
  },
  {
   "cell_type": "markdown",
   "metadata": {},
   "source": [
    "# 3. Contructing the De Bruijn Graph\n",
    "For genome sequences in the first period, people used Hamilton graph with (k, d) -mers as the vertices of the graph, but this method was problematic. The scientists then used the de Bruijn graph with <b>edges being (k, d)-mers</b>, <b>vertices being (k-1, d)-mers</b>. Genome sequencing became finding <b>the Eulerian paths</b> for the De Bruijn graph. Each (k, d)-mer will be the edge of the de Bruijn graph whose vertices are two (k-1, d)-mers separated from (k, d)-mer initially.\n",
    "\n",
    "<a href=\"https://cbitek.com/\"><img src=\"https://cbitek.com/wp-content/uploads/2019/09/DE-BRUIJN-2.jpg\" width=\"850\" align=\"center\"></a>"
   ]
  },
  {
   "cell_type": "code",
   "execution_count": 189,
   "metadata": {},
   "outputs": [],
   "source": [
    "# Getting (k-1, d)-mers from (k, d)-mers.\n",
    "def paired_vertices(text, k): \n",
    "    t_pair = []\n",
    "    for item in text:\n",
    "        prefix = get_composition(item[:k], k-1)[0] + '|' + get_composition(item[k+1:], k-1)[0]\n",
    "        surfix = get_composition(item[:k], k-1)[1] + '|' + get_composition(item[k+1:], k-1)[1]\n",
    "        t_pair.append([prefix, surfix])\n",
    "    return(t_pair)"
   ]
  },
  {
   "cell_type": "code",
   "execution_count": 190,
   "metadata": {},
   "outputs": [
    {
     "data": {
      "text/plain": [
       "[['AAA|AGA', 'AAA|GAG'],\n",
       " ['AAA|AGT', 'AAA|GTG'],\n",
       " ['AAA|GAG', 'AAA|AGT'],\n",
       " ['AAA|GTG', 'AAA|TGT'],\n",
       " ['AAA|TGT', 'AAG|GTC']]"
      ]
     },
     "execution_count": 190,
     "metadata": {},
     "output_type": "execute_result"
    }
   ],
   "source": [
    "paired_ver = paired_vertices(paired_reads, 4)\n",
    "paired_ver[:5]"
   ]
  },
  {
   "cell_type": "code",
   "execution_count": 191,
   "metadata": {},
   "outputs": [],
   "source": [
    "# Getting the De Bruijn from paired_vertices.\n",
    "def get_DeBruijn_k_d_mer(t): \n",
    "    count = []\n",
    "    for i in range(len(t)): \n",
    "        h = [t[i][1]]\n",
    "        for j in range(len(t)):\n",
    "            \n",
    "            # Finding a vertex that can be conected to t[i][0]\n",
    "            if j > i and t[i][0] == t[j][0]:\n",
    "                h.append(t[j][1])\n",
    "                count.append(j)\n",
    "                \n",
    "        t[i][1] = h\n",
    "        \n",
    "    count = np.unique(count).tolist()\n",
    "    \n",
    "    # Glueding the same vertices\n",
    "    for c in count[::-1]: \n",
    "        t.remove(t[c])\n",
    "    return(t)"
   ]
  },
  {
   "cell_type": "markdown",
   "metadata": {},
   "source": [
    "The de Bruijn graph is constructed from paired reads."
   ]
  },
  {
   "cell_type": "code",
   "execution_count": 192,
   "metadata": {},
   "outputs": [
    {
     "data": {
      "text/plain": [
       "[['CGT|TAA', ['GTG|AAA']],\n",
       " ['CTC|GTG', ['TCT|TGG']],\n",
       " ['CTG|GCA', ['TGA|CAA', 'TGA|CAG']],\n",
       " ['CTG|TGG', ['TGA|GGT']],\n",
       " ['CTG|CGG', ['TGC|GGG']]]"
      ]
     },
     "execution_count": 192,
     "metadata": {},
     "output_type": "execute_result"
    }
   ],
   "source": [
    "graph = get_DeBruijn_k_d_mer(paired_ver)\n",
    "graph[30:35]"
   ]
  },
  {
   "cell_type": "markdown",
   "metadata": {},
   "source": [
    "# 4. Eulerian Path\n",
    "Eulerian Path was first discussed by Leonhard Euler while solving the famous Seven Bridges of Königsberg problem in 1736. <b>Eulerian path is the path that goes through all the edges of the graph only once</b>. \n",
    "\n",
    "<a href=\"https://cbitek.com/\"><img src=\"https://cbitek.com/wp-content/uploads/2019/09/eulerian-2.jpg\" width=\"850\" align=\"center\"></a>"
   ]
  },
  {
   "cell_type": "markdown",
   "metadata": {},
   "source": [
    "### Finding  Vertices of edges from de Bruijn Graph"
   ]
  },
  {
   "cell_type": "code",
   "execution_count": 193,
   "metadata": {},
   "outputs": [],
   "source": [
    "# Finding vetexes of edges from the De Bruijn graph\n",
    "def ver(graph): \n",
    "    ver = []\n",
    "    for edge in graph:\n",
    "        ver.append(edge[0])\n",
    "        ver.append(edge[1])\n",
    "    ver = np.unique(ver)\n",
    "    return (ver)"
   ]
  },
  {
   "cell_type": "markdown",
   "metadata": {},
   "source": [
    "### Constructing Eulerian Path"
   ]
  },
  {
   "cell_type": "code",
   "execution_count": 220,
   "metadata": {},
   "outputs": [],
   "source": [
    "def Construct_Eulerian_Path(graph):\n",
    "        graph = [(src,dst) for src,dst in graph]\n",
    "        currentVertex = verifyAndGetStart(graph)\n",
    "        path = [currentVertex]\n",
    "        # \"next\" is where vertices get inserted into our tour\n",
    "        # it starts at the end (i.e. it is the same as appending),\n",
    "        # but later \"side-trips\" will insert in the middle\n",
    "        next = 1\n",
    "        while len(graph) > 0:\n",
    "            # follows a path until it ends\n",
    "            for edge in graph:\n",
    "                if (edge[0] == currentVertex):\n",
    "                    currentVertex = edge[1]\n",
    "                    graph.remove(edge)\n",
    "                    path.insert(next, currentVertex)\n",
    "                    next += 1\n",
    "                    break\n",
    "            else:\n",
    "                # Look for side-trips along the path\n",
    "                for edge in graph:\n",
    "                    try:\n",
    "                        # insert our side-trip after the\n",
    "                        # \"u\" vertex that is starts from\n",
    "                        next = path.index(edge[0]) + 1\n",
    "                        currentVertex = edge[0]\n",
    "                        break\n",
    "                    except ValueError:\n",
    "                        continue\n",
    "                else:\n",
    "                    print (\"There is no path!\")\n",
    "                    return False\n",
    "        return path\n",
    "    \n",
    "# More new methods for the Graph Class\n",
    "def degrees(graph):\n",
    "        \"\"\" Returns two dictionaries with the inDegree and outDegree\n",
    "        of each node from the graph. \"\"\"\n",
    "        inDegree = {}\n",
    "        outDegree = {}\n",
    "        for src, dst in graph:\n",
    "            outDegree[src] = outDegree.get(src, 0) + 1\n",
    "            inDegree[dst] = inDegree.get(dst, 0) + 1\n",
    "        return (inDegree, outDegree)\n",
    "            \n",
    "def verifyAndGetStart(graph):\n",
    "        inDegree, outDegree = degrees(graph)\n",
    "        start = 0\n",
    "        end = 0\n",
    "        vertex = ver(graph)\n",
    "        i = []\n",
    "        o = []\n",
    "        for vert in vertex:\n",
    "            i.append(inDegree.get(vert,0))\n",
    "            o.append(outDegree.get(vert,0))\n",
    "            \n",
    "        if (np.array(i) - np.array(o)).any() != np.zeros((len(i)), dtype=int).any():\n",
    "            for vert in vertex:\n",
    "                ins = inDegree.get(vert,0)\n",
    "                outs = outDegree.get(vert,0)\n",
    "                if (ins == outs):\n",
    "                    continue\n",
    "                elif (ins - outs == 1):\n",
    "                    end = vert\n",
    "                elif (outs - ins == 1):\n",
    "                    start = vert\n",
    "                else:\n",
    "                    start, end = 'no', 'no'\n",
    "                    break\n",
    "            if (start != 'no') and (end != 'no'):\n",
    "                return (start)\n",
    "            else:\n",
    "                return('no')\n",
    "        else:\n",
    "            return (vertex[0])\n",
    "        "
   ]
  },
  {
   "cell_type": "markdown",
   "metadata": {},
   "source": [
    "# 5. Maximal Non-Branching Paths in the De Bruijn Graph\n",
    "\n",
    "After read breaking, some assemblies still have gaps in (k, d)-mer coverage. This causes the De Bruijn graph to lack some edges, and sequenced gene is incorect. Therefore, biologists often divide the De Bruijn graph into <b>Maximal Non-Branching Paths</b> to check before sequencing entire chromosomes.\n",
    "The maximal non-branching path includes vertices having an in-degree = 1 and an out-degree = 1, excluding the vertices at the beginning and the end of the path.\n",
    "\n",
    "<a href=\"https://cbitek.com/\"><img src=\"https://cbitek.com/wp-content/uploads/2019/09/non_branching_paths_2.jpg\" width=\"920\" align=\"center\"></a>\n"
   ]
  },
  {
   "cell_type": "code",
   "execution_count": 195,
   "metadata": {},
   "outputs": [],
   "source": [
    "def change_graph(graph):\n",
    "    ch_graph = []\n",
    "    for x in graph:\n",
    "        l = len(x[1])\n",
    "        for i in range(l):\n",
    "            if x[1][i] != ',':\n",
    "                ch_graph.append((x[0], x[1][i]))\n",
    "    return(ch_graph)"
   ]
  },
  {
   "cell_type": "code",
   "execution_count": 196,
   "metadata": {},
   "outputs": [
    {
     "data": {
      "text/plain": [
       "[('AAA|AGA', 'AAA|GAG'),\n",
       " ('AAA|AGT', 'AAA|GTG'),\n",
       " ('AAA|GAG', 'AAA|AGT'),\n",
       " ('AAA|GTG', 'AAA|TGT'),\n",
       " ('AAA|TGT', 'AAG|GTC')]"
      ]
     },
     "execution_count": 196,
     "metadata": {},
     "output_type": "execute_result"
    }
   ],
   "source": [
    "debruijn_graph = change_graph(graph)\n",
    "debruijn_graph[:5]"
   ]
  },
  {
   "cell_type": "code",
   "execution_count": 225,
   "metadata": {},
   "outputs": [],
   "source": [
    "#Finding edges of the graph\n",
    "def get_edge_from_v (v, Graph): \n",
    "    ed = []\n",
    "    for edge in Graph:\n",
    "        if v == edge[0]:\n",
    "            ed.append((v, edge[1]))\n",
    "    return (ed)\n",
    "\n",
    "#Finding Maximal Non-Branching Paths\n",
    "def MaximalNonBranchingPaths(Graph): \n",
    "    inDegree, outDegree = degrees(Graph)\n",
    "    Paths = []\n",
    "    vertex = ver(Graph)\n",
    "    new_graph = Graph[:]\n",
    "    \n",
    "    # Finding in-degree and out-degree of vertex v\n",
    "    for v in vertex:\n",
    "        ins = inDegree.get(v,0) \n",
    "        outs = outDegree.get(v,0)\n",
    "        \n",
    "        # Finding maximal non-braching paths that are not sub-cycles\n",
    "        # To detect vertices that have in-degree or out-degree difference from 1. \n",
    "        if ins != 1 or outs != 1: \n",
    "            if outs > 0:\n",
    "                for edge in get_edge_from_v (v, new_graph): \n",
    "                    NonBrachingPath = [edge]\n",
    "                    w = edge[1]\n",
    "                    new_graph.remove(edge)\n",
    "                    \n",
    "                    # Repeating to get next vertices that have in-degree and out-degree equal to 1.\n",
    "                    while inDegree.get(w, 0) == 1 and outDegree.get(w, 0) == 1:\n",
    "                        for w_edge in get_edge_from_v(w, new_graph):\n",
    "                            NonBrachingPath.append(w_edge)\n",
    "                            w = w_edge[1]\n",
    "                            new_graph.remove(w_edge)\n",
    "                    Paths.append(NonBrachingPath) \n",
    "                    \n",
    "        # Finding sub-cycles in the graph            \n",
    "        elif ins == 1 and outs == 1: \n",
    "            first_remain = get_edge_from_v(v, new_graph)\n",
    "            \n",
    "            for edge in first_remain:\n",
    "                NonBranchingPath = [edge]\n",
    "                w = edge[1]\n",
    "                # Finding in-degree and out-degree of vertex w\n",
    "                ins_2 = inDegree.get(w, 0)\n",
    "                outs_2 = outDegree.get(w, 0)\n",
    "                \n",
    "                # Repeating to get next vertices that have in-degree and out-degree equal to 1\n",
    "                while  ins_2 == 1 and outs_2 == 1:\n",
    "                    \n",
    "                    remain_edge = get_edge_from_v(w, new_graph)\n",
    "                    \n",
    "                    # Finding next edges\n",
    "                    for w_edge in remain_edge:\n",
    "                        if w_edge != edge:\n",
    "                            NonBranchingPath.append(w_edge)\n",
    "                            w = w_edge[1]\n",
    "                            \n",
    "                    # Breaking while loop if we recieve a cycle   \n",
    "                    if NonBranchingPath[0][0] == NonBranchingPath[-1][-1]:\n",
    "                        Paths.append(NonBranchingPath)\n",
    "                        for i in NonBranchingPath:\n",
    "                            new_graph.remove(i)  \n",
    "                        break\n",
    "                    # Breaking while loop if we don't recieve a cycle      \n",
    "                    elif NonBranchingPath[0][0] != NonBranchingPath[-1][-1] and remain_edge == []:    \n",
    "                        break\n",
    "            \n",
    "    showing_path = []\n",
    "    for p in Paths:\n",
    "        g = Construct_Eulerian_Path(p)\n",
    "        path = '->'.join(g)\n",
    "        showing_path.append(path)\n",
    "    \n",
    "    return(showing_path)"
   ]
  },
  {
   "cell_type": "code",
   "execution_count": 226,
   "metadata": {},
   "outputs": [
    {
     "data": {
      "text/plain": [
       "['AGC|TCA->GCT|CAT->CTT|ATT->TTT|TTC->TTT|TCT->TTC|CTG',\n",
       " 'AAA|AGA->AAA|GAG->AAA|AGT->AAA|GTG->AAA|TGT->AAG|GTC->AGA|TCT->GAG|CTG->AGT|TGA->GTG|GAT->TGT|ATA->GTC|TAG->TCT|AGC->CTG|GCA->TGA|CAA->GAC|AAC->ACT|ACG->CTG|CGG->TGC|GGG->GCA|GGC->CAA|GCA->AAC|CAA->ACG|AAT->CGG|ATA->GGG|TAT->GGC|ATG->GCA|TGT->CAA|GTC->AAT|TCT->ATA|CTC->TAT|TCT->ATG|CTG->TGT|TGT->GTC|GTG->TCT|TGT->CTC|GTG->TCT|TGG->CTG|GGA->TGT|GAT->GTG|ATT->TGT|TTA->GTG|TAA->TGG|AAA->GGA|AAA->GAT|AAA->ATT|AAA->TTA|AAA->TAA|AAG->AAA|AGA',\n",
       " 'CTG|GCA->TGA|CAG->GAT|AGC->ATA|GCT->TAG|CTT->AGC|TTC->GCA|TCT->CAG|CTG->AGC|TGA->GCT|GAA->CTT|AAC->TTC|ACT->TCT|CTG->CTG|TGG->TGA|GGT->GAA|GTT->AAC|TTA->ACT|TAC->CTG|ACC->TGG|CCT->GGT|CTG->GTT|TGC->TTA|GCC->TAC|CCG->ACC|CGT->CCT|GTG->CTG|TGA->TGC|GAG->GCC|AGT->CCG|GTA->CGT|TAA->GTG|AAA->TGA|AAT',\n",
       " 'ATT|ACT->TTC|CTG->TCA|TGA->CAT|GAC->ATT|ACT',\n",
       " 'TTC|CTG->TCT|TGC->CTG|GCA']"
      ]
     },
     "execution_count": 226,
     "metadata": {},
     "output_type": "execute_result"
    }
   ],
   "source": [
    "Max_NonBranching_Paths = MaximalNonBranchingPaths(debruijn_graph)\n",
    "Max_NonBranching_Paths"
   ]
  },
  {
   "cell_type": "code",
   "execution_count": 170,
   "metadata": {},
   "outputs": [
    {
     "name": "stdout",
     "output_type": "stream",
     "text": [
      "Total number of contigs is: 5\n"
     ]
    }
   ],
   "source": [
    "print('Total number of contigs is:',len(Max_NonBranching_Paths))"
   ]
  },
  {
   "cell_type": "markdown",
   "metadata": {},
   "source": [
    "# 6. Genome Sequencing\n",
    "After checking all maximal non-branching paths of the de Bruijn, biologists will <b>find and correct missing or incorrect errors in nucleotides</b> due to an error-reading sequencer. Suppose we finally have all the paired read perfectly, we will <b>build the genome using the eulerian path in the de Bruijn graph</b>."
   ]
  },
  {
   "cell_type": "code",
   "execution_count": 230,
   "metadata": {},
   "outputs": [
    {
     "name": "stdout",
     "output_type": "stream",
     "text": [
      "Eulerian Path:  AGC|TCA->GCT|CAT->CTT|ATT->TTT|TTC->TTT|TCT->TTC|CTG->TCA|TGA->CAT|GAC->ATT|ACT->TTC|CTG->TCT|TGC->CTG|GCA->TGA|CAA->GAC|AAC->ACT|ACG->CTG|CGG->TGC|GGG->GCA|GGC->CAA|GCA->AAC|CAA->ACG|AAT->CGG|ATA->GGG|TAT->GGC|ATG->GCA|TGT->CAA|GTC->AAT|TCT->ATA|CTC->TAT|TCT->ATG|CTG->TGT|TGT->GTC|GTG->TCT|TGT->CTC|GTG->TCT|TGG->CTG|GGA->TGT|GAT->GTG|ATT->TGT|TTA->GTG|TAA->TGG|AAA->GGA|AAA->GAT|AAA->ATT|AAA->TTA|AAA->TAA|AAG->AAA|AGA->AAA|GAG->AAA|AGT->AAA|GTG->AAA|TGT->AAG|GTC->AGA|TCT->GAG|CTG->AGT|TGA->GTG|GAT->TGT|ATA->GTC|TAG->TCT|AGC->CTG|GCA->TGA|CAG->GAT|AGC->ATA|GCT->TAG|CTT->AGC|TTC->GCA|TCT->CAG|CTG->AGC|TGA->GCT|GAA->CTT|AAC->TTC|ACT->TCT|CTG->CTG|TGG->TGA|GGT->GAA|GTT->AAC|TTA->ACT|TAC->CTG|ACC->TGG|CCT->GGT|CTG->GTT|TGC->TTA|GCC->TAC|CCG->ACC|CGT->CCT|GTG->CTG|TGA->TGC|GAG->GCC|AGT->CCG|GTA->CGT|TAA->GTG|AAA->TGA|AAT\n"
     ]
    }
   ],
   "source": [
    "Eulerian_Path = Construct_Eulerian_Path(debruijn_graph)\n",
    "print('Eulerian Path: ', \"->\".join(Eulerian_Path))"
   ]
  },
  {
   "cell_type": "markdown",
   "metadata": {},
   "source": [
    "After finding the Eulerian paths through the (k-1, d)-mers, we will merge them into a genome sequences. For example:\n",
    "\n",
    "TGTCTC<b>TGTGTGGATTAAAAAAAGAGTGTCTGAGCAACGGGCAATATGT</b> + <b>TGTGTGGATTAAAAAAAGAGTGTCTGAGCAACGGGCAATATGT</b>CTCTGT\n",
    "--------->TGTCTC<b>TGTGTGGATTAAAAAAAGAGTGTCTGAGCAACGGGCAATATGT</b>CTCTGT"
   ]
  },
  {
   "cell_type": "code",
   "execution_count": 214,
   "metadata": {},
   "outputs": [],
   "source": [
    "def get_genome_string(text, k):\n",
    "    st = str()\n",
    "    it = len(text)\n",
    "    for i in range(it):\n",
    "        st = st + text[i][0]\n",
    "    if k > 1:\n",
    "        st = st + text[it-1][-k+1:-1] + text[it-1][-1]\n",
    "    else:\n",
    "        st = st\n",
    "    return(st)"
   ]
  },
  {
   "cell_type": "code",
   "execution_count": 215,
   "metadata": {},
   "outputs": [],
   "source": [
    "def get_pair_string(pair, k):\n",
    "    pre = []\n",
    "    sur = []\n",
    "    \n",
    "    # if paths is not a cycle\n",
    "    if pair[-1] != pair[0]:\n",
    "        for item in pair:\n",
    "            prefix_pair = item[:k-1]\n",
    "            surfix_pair = item[k:]\n",
    "            pre.append(prefix_pair)\n",
    "            sur.append(surfix_pair)\n",
    "            \n",
    "    # if paths is a cycle\n",
    "    else:\n",
    "        for item in pair:\n",
    "            prefix_pair = item[:k-1]\n",
    "            surfix_pair = item[k:]\n",
    "            pre.append(prefix_pair)\n",
    "            sur.append(surfix_pair)\n",
    "        pre.remove(pre[-1])\n",
    "        sur.remove(sur[-1])\n",
    "            \n",
    "    return(pre, sur)"
   ]
  },
  {
   "cell_type": "code",
   "execution_count": 235,
   "metadata": {},
   "outputs": [],
   "source": [
    "def get_genome_pair(pair, k, d):\n",
    "    a = get_genome_string(get_pair_string(pair, k)[0], k-1)\n",
    "    b = get_genome_string(get_pair_string(pair, k)[1], k-1)\n",
    "    print('Prefix:', a)\n",
    "    print('Surfix:', b)\n",
    "    \n",
    "    if a[k+d:] == b[:len(a)-k-d]: \n",
    "        tx = a[:k+d] + b\n",
    "    else:\n",
    "        tx = 'Choosing d value again'\n",
    "    return(tx)"
   ]
  },
  {
   "cell_type": "code",
   "execution_count": 236,
   "metadata": {},
   "outputs": [
    {
     "name": "stdout",
     "output_type": "stream",
     "text": [
      "Prefix: AGCTTTTCATTCTGACTGCAACGGGCAATATGTCTCTGTGTGGATTAAAAAAAGAGTGTCTGATAGCAGCTTCTGAACTGGTTACCTGCCGTGA\n",
      "Surfix: TCATTCTGACTGCAACGGGCAATATGTCTCTGTGTGGATTAAAAAAAGAGTGTCTGATAGCAGCTTCTGAACTGGTTACCTGCCGTGAGTAAAT\n",
      "Genome sequences: AGCTTTTCATTCTGACTGCAACGGGCAATATGTCTCTGTGTGGATTAAAAAAAGAGTGTCTGATAGCAGCTTCTGAACTGGTTACCTGCCGTGAGTAAAT\n"
     ]
    }
   ],
   "source": [
    "print('Genome sequences:',get_genome_pair(Eulerian_Path, 4, 2))"
   ]
  },
  {
   "cell_type": "markdown",
   "metadata": {},
   "source": [
    "# 7. Conclusion"
   ]
  },
  {
   "cell_type": "markdown",
   "metadata": {},
   "source": [
    "Switching from reads to paired reads will increase the length of reads, so the de bruijn graph becomes less hassle, but must be consider choosing the values of k and d accordingly so we can get a final genetic sequence.\n",
    "Genome sequencing is not easy due to the reading errors of the sequencing machine. Separating the maxial non-branching paths from the de bruijn graph can make it easier for biologists to identify where the errors are, from which they will correct them before sequencing whole chromosome."
   ]
  }
 ],
 "metadata": {
  "kernelspec": {
   "display_name": "Python 3",
   "language": "python",
   "name": "python3"
  },
  "language_info": {
   "codemirror_mode": {
    "name": "ipython",
    "version": 3
   },
   "file_extension": ".py",
   "mimetype": "text/x-python",
   "name": "python",
   "nbconvert_exporter": "python",
   "pygments_lexer": "ipython3",
   "version": "3.6.7"
  }
 },
 "nbformat": 4,
 "nbformat_minor": 2
}
