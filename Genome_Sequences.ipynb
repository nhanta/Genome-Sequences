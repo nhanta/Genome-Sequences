{
 "cells": [
  {
   "cell_type": "markdown",
   "metadata": {},
   "source": [
    "<a href=\"https://cbitek.com/\"><img src=\"https://cbitek.com/wp-content/uploads/2019/08/Genome.jpg\" width=\"200\" align=\"center\"></a>\n",
    "# Genome Sequences \n",
    "### Author: NhanTV"
   ]
  },
  {
   "cell_type": "markdown",
   "metadata": {},
   "source": [
    "We will simulate the process of genome sequencing simply without considering which alleles and chromosomes gens belong to."
   ]
  },
  {
   "cell_type": "markdown",
   "metadata": {},
   "source": [
    "<h1>Table of contents</h1>\n",
    "\n",
    "<div class=\"alert alert-block alert-info\" style=\"margin-top: 20px\">\n",
    "    <ol>\n",
    "        <li><a href=\"#data\">Data</a></li>\n",
    "            <ol>\n",
    "                <li><a href=\"#import dataset\">Import Dataset</a></li>\n",
    "                <li><a href=\"#getting compisition\">Getting Composition (Paired Reads)</a></li>\n",
    "            </ol>\n",
    "        <li><a href=\"#contructing the de bruijn\">Constructing the De Bruijn Graph</a></li>          \n",
    "        <li><a href=\"#eulerian path\">Eulerian Path</a></li>\n",
    "        <li><a href=\"#non branching paths\">Maximal Non-Branching Paths in the De Bruijn Graph</a></li>\n",
    "    </ol>\n",
    "</div>\n",
    "<br>\n",
    "<hr>"
   ]
  },
  {
   "cell_type": "markdown",
   "metadata": {},
   "source": [
    "# 1. Data\n",
    "Genome Data of <b>Ecoli bacterium</b> can be downloaded from here: <a href=\"https://github.com/nhanta/Genome-Sequences/blob/master/ecoli.txt\">Ecoli.txt</a>"
   ]
  },
  {
   "cell_type": "code",
   "execution_count": 456,
   "metadata": {},
   "outputs": [],
   "source": [
    "import numpy as np\n",
    "import pandas as pd"
   ]
  },
  {
   "cell_type": "markdown",
   "metadata": {},
   "source": [
    "### Import Dataset"
   ]
  },
  {
   "cell_type": "markdown",
   "metadata": {},
   "source": [
    "For easy considering of the sequencing process on a personal computer, we choose the first 100 nucleotides."
   ]
  },
  {
   "cell_type": "code",
   "execution_count": 457,
   "metadata": {},
   "outputs": [
    {
     "name": "stdout",
     "output_type": "stream",
     "text": [
      "The length of genome: 4639675\n",
      "Genome Sequences: AGCTTTTCATTCTGACTGCAACGGGCAATATGTCTCTGTGTGGATTAAAAAAAGAGTGTCTGATAGCAGCTTCTGAACTGGTTACCTGCCGTGAGTAAAT\n"
     ]
    }
   ],
   "source": [
    "with open (\"D:/Data Science/Coursera/Bioinformatics/Paired reads/ecoli.txt\", \"r\") as file:\n",
    "    text = file.read().replace('\\n', '')\n",
    "    print('The length of genome:', len(text))\n",
    "    text = text[:100]\n",
    "    print('Genome Sequences:', text)"
   ]
  },
  {
   "cell_type": "markdown",
   "metadata": {},
   "source": [
    "Firstly, we will simulate the reading of the genome sequencing machine. Defining a (k, d)-mers as a paired reads with the first k nucleotides, the last k nucleotides and the gap we don't know between them has d nucleotides."
   ]
  },
  {
   "cell_type": "markdown",
   "metadata": {},
   "source": [
    "### Getting Composition (Paired Reads)"
   ]
  },
  {
   "cell_type": "code",
   "execution_count": 458,
   "metadata": {},
   "outputs": [],
   "source": [
    "def get_composition(text, k): # Deviding text to k-mers overlaping (k-1) nucleotides \n",
    "    pattern = []\n",
    "    for i in range(len(text)-k +1):\n",
    "        pattern.append(text[i:i+k])\n",
    "    return(pattern)"
   ]
  },
  {
   "cell_type": "markdown",
   "metadata": {},
   "source": [
    "The text is composited into (k, d)-mers so that it's surfix: (k-1, d)-mers equals to the prefix (k-1, d)-mers of the next (k, d)-mers."
   ]
  },
  {
   "cell_type": "code",
   "execution_count": 459,
   "metadata": {},
   "outputs": [],
   "source": [
    "def get_composition_d(text, k, d):\n",
    "    pattern = []\n",
    "    for i in range(len(text)-2*k-d+1):\n",
    "        pattern.append(text[i:i+k]+'|'+ text[i+k+d:i+2*k+d])\n",
    "    return(pattern)"
   ]
  },
  {
   "cell_type": "code",
   "execution_count": 460,
   "metadata": {},
   "outputs": [
    {
     "data": {
      "text/plain": [
       "['AGCT|TCAT', 'GCTT|CATT', 'CTTT|ATTC', 'TTTT|TTCT', 'TTTC|TCTG']"
      ]
     },
     "execution_count": 460,
     "metadata": {},
     "output_type": "execute_result"
    }
   ],
   "source": [
    "pre_paired_reads = get_composition_d(text, 4, 2)\n",
    "pre_paired_reads[:5]"
   ]
  },
  {
   "cell_type": "markdown",
   "metadata": {},
   "source": [
    "Since we don't know the order of the (k, d)-mers, so we will rearrange its order by alphabe."
   ]
  },
  {
   "cell_type": "code",
   "execution_count": 461,
   "metadata": {},
   "outputs": [
    {
     "data": {
      "text/plain": [
       "['AAAA|AGAG', 'AAAA|AGTG', 'AAAA|GAGT', 'AAAA|GTGT', 'AAAG|TGTC']"
      ]
     },
     "execution_count": 461,
     "metadata": {},
     "output_type": "execute_result"
    }
   ],
   "source": [
    "paired_reads= sorted(pre_paired_reads)\n",
    "paired_reads[:5]"
   ]
  },
  {
   "cell_type": "markdown",
   "metadata": {},
   "source": [
    "# 2. Contructing the De Bruijn Graph\n",
    "For genome sequences in the first period, people used Hamilton graph with (k, d) -mers as the vertices of the graph, but this method was problematic. The scientists then used the De Bruijn graph (invented by the Dutch scientist) with edges being (k, d)-mers, vertices being (k-1, d)-mers. Genome sequencing became finding the Eulerian path for the De Bruijn graph.\n",
    "\n",
    "<a href=\"https://cbitek.com/\"><img src=\"https://cbitek.com/wp-content/uploads/2019/08/gluing_paired_reads2.jpg\" width=\"500\" align=\"center\"></a>"
   ]
  },
  {
   "cell_type": "code",
   "execution_count": 463,
   "metadata": {},
   "outputs": [],
   "source": [
    "def paired_vertexes(text, k): # Getting (k-1, d)-mers from (k, d)-mers.\n",
    "    t_pair = []\n",
    "    for item in text:\n",
    "        prefix = get_composition(item[:k], k-1)[0] + '|' + get_composition(item[k+1:], k-1)[0]\n",
    "        surfix = get_composition(item[:k], k-1)[1] + '|' + get_composition(item[k+1:], k-1)[1]\n",
    "        t_pair.append([prefix, surfix])\n",
    "    return(t_pair)"
   ]
  },
  {
   "cell_type": "code",
   "execution_count": 464,
   "metadata": {},
   "outputs": [
    {
     "data": {
      "text/plain": [
       "[['AAA|AGA', 'AAA|GAG'],\n",
       " ['AAA|AGT', 'AAA|GTG'],\n",
       " ['AAA|GAG', 'AAA|AGT'],\n",
       " ['AAA|GTG', 'AAA|TGT'],\n",
       " ['AAA|TGT', 'AAG|GTC']]"
      ]
     },
     "execution_count": 464,
     "metadata": {},
     "output_type": "execute_result"
    }
   ],
   "source": [
    "paired_ver = paired_vertexes(paired_reads, 4)\n",
    "paired_ver[:5]"
   ]
  },
  {
   "cell_type": "code",
   "execution_count": 465,
   "metadata": {},
   "outputs": [],
   "source": [
    "def get_DeBruijn_k_d_mer(t): # Getting the De Bruijn from paired_vertexes.\n",
    "    count = []\n",
    "    for i in range(len(t)): \n",
    "        h = [t[i][1]]\n",
    "        for j in range(len(t)):\n",
    "            if j > i and t[i][0] == t[j][0]:\n",
    "                h.append(t[j][1])\n",
    "                count.append(j)\n",
    "                \n",
    "        t[i][1] = h\n",
    "        \n",
    "    count = np.unique(count).tolist()\n",
    "\n",
    "    for c in count[::-1]: # Glueding the same vertexes\n",
    "        t.remove(t[c])\n",
    "    return(t)"
   ]
  },
  {
   "cell_type": "code",
   "execution_count": 466,
   "metadata": {},
   "outputs": [
    {
     "data": {
      "text/plain": [
       "[['AAA|AGA', ['AAA|GAG']],\n",
       " ['AAA|AGT', ['AAA|GTG']],\n",
       " ['AAA|GAG', ['AAA|AGT']],\n",
       " ['AAA|GTG', ['AAA|TGT']],\n",
       " ['AAA|TGT', ['AAG|GTC']]]"
      ]
     },
     "execution_count": 466,
     "metadata": {},
     "output_type": "execute_result"
    }
   ],
   "source": [
    "graph = get_DeBruijn_k_d_mer(paired_ver)\n",
    "graph[:5]"
   ]
  },
  {
   "cell_type": "markdown",
   "metadata": {},
   "source": [
    "# 3. Eulerian Path\n",
    "Eulerian Path was first discussed by Leonhard Euler while solving the famous Seven Bridges of Königsberg problem in 1736. Eulerian path is the path that goes through all the edges of the graph exactly once. \n",
    "\n",
    "<a href=\"https://cbitek.com/\"><img src=\"https://cbitek.com/wp-content/uploads/2019/08/DEBRUIJN2.jpg\" width=\"500\" align=\"center\"></a>"
   ]
  },
  {
   "cell_type": "markdown",
   "metadata": {},
   "source": [
    "### Finding  Vertexes of edges from de Bruijn Graph"
   ]
  },
  {
   "cell_type": "code",
   "execution_count": 467,
   "metadata": {},
   "outputs": [],
   "source": [
    "def ver(graph): # Finding vetexes of edges from the De Bruijn graph\n",
    "    ver = []\n",
    "    for edge in graph:\n",
    "        ver.append(edge[0])\n",
    "        ver.append(edge[1])\n",
    "    ver = np.unique(ver)\n",
    "    return (ver)"
   ]
  },
  {
   "cell_type": "markdown",
   "metadata": {},
   "source": [
    "### Definition of Eulerian Path"
   ]
  },
  {
   "cell_type": "code",
   "execution_count": 468,
   "metadata": {},
   "outputs": [],
   "source": [
    "def get_eulerianPath(graph):\n",
    "        graph = [(src,dst) for src,dst in graph]\n",
    "        currentVertex = verifyAndGetStart(graph)\n",
    "        path = [currentVertex]\n",
    "        # \"next\" is where vertices get inserted into our tour\n",
    "        # it starts at the end (i.e. it is the same as appending),\n",
    "        # but later \"side-trips\" will insert in the middle\n",
    "        next = 1\n",
    "        while len(graph) > 0:\n",
    "            # follows a path until it ends\n",
    "            for edge in graph:\n",
    "                if (edge[0] == currentVertex):\n",
    "                    currentVertex = edge[1]\n",
    "                    graph.remove(edge)\n",
    "                    path.insert(next, currentVertex)\n",
    "                    next += 1\n",
    "                    break\n",
    "            else:\n",
    "                # Look for side-trips along the path\n",
    "                for edge in graph:\n",
    "                    try:\n",
    "                        # insert our side-trip after the\n",
    "                        # \"u\" vertex that is starts from\n",
    "                        next = path.index(edge[0]) + 1\n",
    "                        currentVertex = edge[0]\n",
    "                        break\n",
    "                    except ValueError:\n",
    "                        continue\n",
    "                else:\n",
    "                    print (\"There is no path!\")\n",
    "                    return False\n",
    "        return path\n",
    "    \n",
    "# More new methods for the Graph Class\n",
    "def degrees(graph):\n",
    "        \"\"\" Returns two dictionaries with the inDegree and outDegree\n",
    "        of each node from the graph. \"\"\"\n",
    "        inDegree = {}\n",
    "        outDegree = {}\n",
    "        for src, dst in graph:\n",
    "            outDegree[src] = outDegree.get(src, 0) + 1\n",
    "            inDegree[dst] = inDegree.get(dst, 0) + 1\n",
    "        return (inDegree, outDegree)\n",
    "            \n",
    "def verifyAndGetStart(graph):\n",
    "        inDegree, outDegree = degrees(graph)\n",
    "        start = 0\n",
    "        end = 0\n",
    "        vertex = ver(graph)\n",
    "        i = []\n",
    "        o = []\n",
    "        for vert in vertex:\n",
    "            i.append(inDegree.get(vert,0))\n",
    "            o.append(outDegree.get(vert,0))\n",
    "            \n",
    "        if (np.array(i) - np.array(o)).any() != np.zeros((len(i)), dtype=int).any():\n",
    "            for vert in vertex:\n",
    "                ins = inDegree.get(vert,0)\n",
    "                outs = outDegree.get(vert,0)\n",
    "                if (ins == outs):\n",
    "                    continue\n",
    "                elif (ins - outs == 1):\n",
    "                    end = vert\n",
    "                elif (outs - ins == 1):\n",
    "                    start = vert\n",
    "                else:\n",
    "                    start, end = 'no', 'no'\n",
    "                    break\n",
    "            if (start != 'no') and (end != 'no'):\n",
    "                return (start)\n",
    "            else:\n",
    "                return('no')\n",
    "        else:\n",
    "            return (vertex[0])\n",
    "        "
   ]
  },
  {
   "cell_type": "markdown",
   "metadata": {},
   "source": [
    "# 4. Maximal Non-Branching Paths in the De Bruijn Graph\n",
    "\n",
    "For some reason, the result of the gene sequencer lacks some nucleotides. This causes the De Bruijn graph to lack some edges, and sequenced gene is incorect. Therefore, we need to divide the De Bruijn graph into <b>Maximal Non-Branching Paths</b> for sequencing instead of sequencing the whole result.\n",
    "The maximal non-branching path includes vertices having an in-degree = 1 and an out-degree = 1, excluding the vertices at the beginning and the end of the path.\n",
    "\n",
    "<a href=\"https://cbitek.com/\"><img src=\"https://cbitek.com/wp-content/uploads/2019/08/amJxedTIwXirbPvi.png\" width=\"500\" align=\"center\"></a>\n"
   ]
  },
  {
   "cell_type": "code",
   "execution_count": 469,
   "metadata": {},
   "outputs": [],
   "source": [
    "def change_graph(graph):\n",
    "    ch_graph = []\n",
    "    for x in graph:\n",
    "        l = len(x[1])\n",
    "        for i in range(l):\n",
    "            if x[1][i] != ',':\n",
    "                ch_graph.append((x[0], x[1][i]))\n",
    "    return(ch_graph)"
   ]
  },
  {
   "cell_type": "code",
   "execution_count": 470,
   "metadata": {},
   "outputs": [
    {
     "data": {
      "text/plain": [
       "[('AAA|AGA', 'AAA|GAG'),\n",
       " ('AAA|AGT', 'AAA|GTG'),\n",
       " ('AAA|GAG', 'AAA|AGT'),\n",
       " ('AAA|GTG', 'AAA|TGT'),\n",
       " ('AAA|TGT', 'AAG|GTC')]"
      ]
     },
     "execution_count": 470,
     "metadata": {},
     "output_type": "execute_result"
    }
   ],
   "source": [
    "debruijn_graph = change_graph(graph)\n",
    "debruijn_graph[:5]"
   ]
  },
  {
   "cell_type": "code",
   "execution_count": 471,
   "metadata": {},
   "outputs": [],
   "source": [
    "def get_edge_from_v (v, Graph): #Findinh edges of the graph\n",
    "    ed = []\n",
    "    for edge in Graph:\n",
    "        if v == edge[0]:\n",
    "            ed.append((v, edge[1]))\n",
    "    return (ed)\n",
    "            \n",
    "def MaximalNonBranchingPaths(Graph): \n",
    "    inDegree, outDegree = degrees(Graph)\n",
    "    Paths = []\n",
    "    vertex = ver(Graph)\n",
    "    new_graph = Graph[:]\n",
    "    \n",
    "    for v in vertex:\n",
    "        ins = inDegree.get(v,0)\n",
    "        outs = outDegree.get(v,0)\n",
    "        \n",
    "        # Finding maximal non-braching paths that are not sub-cycles\n",
    "        if ins != 1 or outs != 1: \n",
    "            if outs > 0:\n",
    "                for edge in get_edge_from_v (v, new_graph): \n",
    "                    NonBrachingPath = [edge]\n",
    "                    w = edge[1]\n",
    "                    new_graph.remove(edge)\n",
    "                    \n",
    "                    while inDegree.get(w, 0) == 1 and outDegree.get(w, 0) == 1:\n",
    "                        for w_edge in get_edge_from_v(w, new_graph):\n",
    "                            NonBrachingPath.append(w_edge)\n",
    "                            w = w_edge[1]\n",
    "                            new_graph.remove(w_edge)\n",
    "                    Paths.append(NonBrachingPath) \n",
    "                    \n",
    "        # Finding sub-cycles in the graph            \n",
    "        elif ins == 1 and outs == 1: \n",
    "            first_remain = get_edge_from_v(v, new_graph)\n",
    "            \n",
    "            for edge in first_remain:\n",
    "                NonBranchingPath = [edge]\n",
    "                w = edge[1]\n",
    "                ins_2 = inDegree.get(w, 0)\n",
    "                outs_2 = outDegree.get(w, 0)\n",
    "                \n",
    "                while outs_2 == 1:\n",
    "                    \n",
    "                    remain_edge = get_edge_from_v(w, new_graph)\n",
    "                    \n",
    "                    for w_edge in remain_edge:\n",
    "                        \n",
    "                        if w_edge != edge:\n",
    "                            \n",
    "                            NonBranchingPath.append(w_edge)\n",
    "                            w = w_edge[1]\n",
    "                   \n",
    "                    if NonBranchingPath[0][0] == NonBranchingPath[-1][-1]:\n",
    "                        Paths.append(NonBranchingPath)\n",
    "                        for i in NonBranchingPath:\n",
    "                            new_graph.remove(i)  \n",
    "                        break\n",
    "                        \n",
    "                    elif NonBranchingPath[0][0] != NonBranchingPath[-1][-1] and remain_edge == []:    \n",
    "                        break\n",
    "            \n",
    "    showing_path = []\n",
    "    for p in Paths:\n",
    "        g = get_eulerianPath(p)\n",
    "        path = '->'.join(g)\n",
    "        showing_path.append(path)\n",
    "    \n",
    "    return(showing_path)"
   ]
  },
  {
   "cell_type": "code",
   "execution_count": 483,
   "metadata": {},
   "outputs": [
    {
     "data": {
      "text/plain": [
       "['AGC|TCA->GCT|CAT->CTT|ATT->TTT|TTC->TTT|TCT->TTC|CTG',\n",
       " 'AAA|AGA->AAA|GAG->AAA|AGT->AAA|GTG->AAA|TGT->AAG|GTC->AGA|TCT->GAG|CTG->AGT|TGA->GTG|GAT->TGT|ATA->GTC|TAG->TCT|AGC->CTG|GCA->TGA|CAA->GAC|AAC->ACT|ACG->CTG|CGG->TGC|GGG->GCA|GGC->CAA|GCA->AAC|CAA->ACG|AAT->CGG|ATA->GGG|TAT->GGC|ATG->GCA|TGT->CAA|GTC->AAT|TCT->ATA|CTC->TAT|TCT->ATG|CTG->TGT|TGT->GTC|GTG->TCT|TGT->CTC|GTG->TCT|TGG->CTG|GGA->TGT|GAT->GTG|ATT->TGT|TTA->GTG|TAA->TGG|AAA->GGA|AAA->GAT|AAA->ATT|AAA->TTA|AAA->TAA|AAG->AAA|AGA',\n",
       " 'CTG|GCA->TGA|CAG->GAT|AGC->ATA|GCT->TAG|CTT->AGC|TTC->GCA|TCT->CAG|CTG->AGC|TGA->GCT|GAA->CTT|AAC->TTC|ACT->TCT|CTG->CTG|TGG->TGA|GGT->GAA|GTT->AAC|TTA->ACT|TAC->CTG|ACC->TGG|CCT->GGT|CTG->GTT|TGC->TTA|GCC->TAC|CCG->ACC|CGT->CCT|GTG->CTG|TGA->TGC|GAG->GCC|AGT->CCG|GTA->CGT|TAA->GTG|AAA->TGA|AAT',\n",
       " 'ATT|ACT->TTC|CTG->TCA|TGA->CAT|GAC->ATT|ACT',\n",
       " 'TTC|CTG->TCT|TGC->CTG|GCA']"
      ]
     },
     "execution_count": 483,
     "metadata": {},
     "output_type": "execute_result"
    }
   ],
   "source": [
    "Max_NonBanching_Paths = MaximalNonBranchingPaths(debruijn_graph)\n",
    "Max_NonBanching_Paths"
   ]
  },
  {
   "cell_type": "code",
   "execution_count": 484,
   "metadata": {},
   "outputs": [
    {
     "name": "stdout",
     "output_type": "stream",
     "text": [
      "Total number of contigs is: 5\n"
     ]
    }
   ],
   "source": [
    "print('Total number of contigs is:',len(Max_NonBanching_Paths))"
   ]
  },
  {
   "cell_type": "markdown",
   "metadata": {},
   "source": [
    "Suppose we choose any contig to get a genome branch."
   ]
  },
  {
   "cell_type": "code",
   "execution_count": 485,
   "metadata": {},
   "outputs": [
    {
     "data": {
      "text/plain": [
       "'AAA|AGA->AAA|GAG->AAA|AGT->AAA|GTG->AAA|TGT->AAG|GTC->AGA|TCT->GAG|CTG->AGT|TGA->GTG|GAT->TGT|ATA->GTC|TAG->TCT|AGC->CTG|GCA->TGA|CAA->GAC|AAC->ACT|ACG->CTG|CGG->TGC|GGG->GCA|GGC->CAA|GCA->AAC|CAA->ACG|AAT->CGG|ATA->GGG|TAT->GGC|ATG->GCA|TGT->CAA|GTC->AAT|TCT->ATA|CTC->TAT|TCT->ATG|CTG->TGT|TGT->GTC|GTG->TCT|TGT->CTC|GTG->TCT|TGG->CTG|GGA->TGT|GAT->GTG|ATT->TGT|TTA->GTG|TAA->TGG|AAA->GGA|AAA->GAT|AAA->ATT|AAA->TTA|AAA->TAA|AAG->AAA|AGA'"
      ]
     },
     "execution_count": 485,
     "metadata": {},
     "output_type": "execute_result"
    }
   ],
   "source": [
    "Branch = Max_NonBanching_Paths[1]\n",
    "Branch"
   ]
  },
  {
   "cell_type": "code",
   "execution_count": 486,
   "metadata": {},
   "outputs": [
    {
     "data": {
      "text/plain": [
       "['AAA|AGA', 'AAA|GAG', 'AAA|AGT', 'AAA|GTG', 'AAA|TGT']"
      ]
     },
     "execution_count": 486,
     "metadata": {},
     "output_type": "execute_result"
    }
   ],
   "source": [
    "vertexes = Branch.split('->')\n",
    "vertexes[:5]"
   ]
  },
  {
   "cell_type": "markdown",
   "metadata": {},
   "source": [
    "After finding the Eulerian paths through the (k-1, d)-mers we will merge them into a genome sequence of the contig. For example:\n",
    "\n",
    "TGTCTC<b>TGTGTGGATTAAAAAAAGAGTGTCTGACTGCAACGGGCAATATGT</b> + <b>TGTGTGGATTAAAAAAAGAGTGTCTGATAGCAACGGGCAATATGT</b>CTCTGT\n",
    "--------->TGTCTC<b>TGTGTGGATTAAAAAAAGAGTGTCTGATAGCAACGGGCAATATGT</b>CTCTGT"
   ]
  },
  {
   "cell_type": "code",
   "execution_count": 487,
   "metadata": {},
   "outputs": [],
   "source": [
    "def get_genome_string(text, k):\n",
    "    st = str()\n",
    "    it = len(text)\n",
    "    for i in range(it):\n",
    "        st = st + text[i][0]\n",
    "    if k > 1:\n",
    "        st = st + text[it-1][-k+1:-1] + text[it-1][-1]\n",
    "    else:\n",
    "        st = st\n",
    "    return(st)"
   ]
  },
  {
   "cell_type": "code",
   "execution_count": 488,
   "metadata": {},
   "outputs": [],
   "source": [
    "def get_pair_string(pair, k):\n",
    "    pre = []\n",
    "    sur = []\n",
    "    if pair[-1] != pair[0]:\n",
    "        for item in pair:\n",
    "            prefix_pair = item[:k-1]\n",
    "            surfix_pair = item[k:]\n",
    "            pre.append(prefix_pair)\n",
    "            sur.append(surfix_pair)\n",
    "    else:\n",
    "        for item in pair:\n",
    "            if item[:k-1] == item[k:]:\n",
    "                ind = pair.index(item)\n",
    "                break\n",
    "        new_pair_1 = pair[ind:len(pair)]\n",
    "        new_pair_2 = pair[1:ind+1]\n",
    "        new_pair = new_pair_1 + new_pair_2\n",
    "        for item in new_pair:\n",
    "            prefix_pair = item[:k-1]\n",
    "            surfix_pair = item[k:]\n",
    "            pre.append(prefix_pair)\n",
    "            sur.append(surfix_pair)\n",
    "            \n",
    "    return(pre, sur)"
   ]
  },
  {
   "cell_type": "code",
   "execution_count": 489,
   "metadata": {},
   "outputs": [],
   "source": [
    "def get_genome_pair(pair, k, d):\n",
    "    a = get_genome_string(get_pair_string(pair, k)[0], k-1)\n",
    "    b = get_genome_string(get_pair_string(pair, k)[1], k-1)\n",
    "    print('Prefix:', a)\n",
    "    print('Surfix:', b)\n",
    "    return(a[:k+d] + b)"
   ]
  },
  {
   "cell_type": "code",
   "execution_count": 493,
   "metadata": {},
   "outputs": [
    {
     "name": "stdout",
     "output_type": "stream",
     "text": [
      "Prefix: TGTCTCTGTGTGGATTAAAAAAAGAGTGTCTGACTGCAACGGGCAATATGT\n",
      "Surfix: TGTGTGGATTAAAAAAAGAGTGTCTGATAGCAACGGGCAATATGTCTCTGT\n",
      "Genome sequences of the contig is: TGTCTCTGTGTGGATTAAAAAAAGAGTGTCTGATAGCAACGGGCAATATGTCTCTGT\n"
     ]
    }
   ],
   "source": [
    "print('Genome sequences of the contig is:',get_genome_pair(vertexes, 4, 2))"
   ]
  },
  {
   "cell_type": "markdown",
   "metadata": {},
   "source": [
    "With sequencing all maximal_branching_paths of the de Bruijn and thoroughly examing each branch, we will get the whole genome of Ecoli."
   ]
  }
 ],
 "metadata": {
  "kernelspec": {
   "display_name": "Python 3",
   "language": "python",
   "name": "python3"
  },
  "language_info": {
   "codemirror_mode": {
    "name": "ipython",
    "version": 3
   },
   "file_extension": ".py",
   "mimetype": "text/x-python",
   "name": "python",
   "nbconvert_exporter": "python",
   "pygments_lexer": "ipython3",
   "version": "3.6.7"
  }
 },
 "nbformat": 4,
 "nbformat_minor": 2
}
